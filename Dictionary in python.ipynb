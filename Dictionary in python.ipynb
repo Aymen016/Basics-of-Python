{
 "cells": [
  {
   "cell_type": "markdown",
   "id": "d3b1242a",
   "metadata": {},
   "source": [
    "### Assignment-05 (DICTIONARY)\n",
    "- Change the notebook name with your name and Roll Number.\n",
    "- Try this as your own, no chatgpt (it's for your learning)\n",
    "- after completing the assignment, submit this book on google class room."
   ]
  },
  {
   "cell_type": "markdown",
   "id": "3079cae1",
   "metadata": {},
   "source": [
    "    Create an empty dictionary and print it.\n"
   ]
  },
  {
   "cell_type": "code",
   "execution_count": 1,
   "id": "1e0b1c0d",
   "metadata": {},
   "outputs": [
    {
     "name": "stdout",
     "output_type": "stream",
     "text": [
      "Empty Dictionary:\n",
      "{}\n"
     ]
    }
   ],
   "source": [
    "empty_dictionary = {}\n",
    "print(f'Empty Dictionary:\\n{empty_dictionary}')"
   ]
  },
  {
   "cell_type": "markdown",
   "id": "c02f03e9",
   "metadata": {},
   "source": [
    "    Create a dictionary representing a person with keys such as 'name', 'age', and 'city'.\n"
   ]
  },
  {
   "cell_type": "code",
   "execution_count": 2,
   "id": "1c55f8a0",
   "metadata": {},
   "outputs": [
    {
     "name": "stdout",
     "output_type": "stream",
     "text": [
      "My Dictionary:\n",
      "{'name': 'Aymen', 'age': 20, 'city': 'Lahore'}\n"
     ]
    }
   ],
   "source": [
    "dictionary = {'name':'Aymen', 'age': 20, 'city':'Lahore'}\n",
    "print(f'My Dictionary:\\n{dictionary}')"
   ]
  },
  {
   "cell_type": "markdown",
   "id": "3de2a866",
   "metadata": {},
   "source": [
    "    Create a dictionary that includes keys with different data types (strings, integers)."
   ]
  },
  {
   "cell_type": "code",
   "execution_count": 3,
   "id": "89c0b2ee",
   "metadata": {},
   "outputs": [
    {
     "name": "stdout",
     "output_type": "stream",
     "text": [
      "My Dictionary:\n",
      "{1: 'Aymen', 'Rollno': 16, 'Degree': 'Data Science', ('a', 'b'): [1, 2, 3]}\n"
     ]
    }
   ],
   "source": [
    "mixed_dictionary = {1:'Aymen', 'Rollno':16, 'Degree':'Data Science',('a', 'b'): [1, 2, 3]}\n",
    "print(f'My Dictionary:\\n{mixed_dictionary}')"
   ]
  },
  {
   "cell_type": "markdown",
   "id": "41ce050c",
   "metadata": {},
   "source": [
    "Access and print the value associated with a specific key."
   ]
  },
  {
   "cell_type": "code",
   "execution_count": 4,
   "id": "ec5dbc94",
   "metadata": {},
   "outputs": [
    {
     "name": "stdout",
     "output_type": "stream",
     "text": [
      "Name in my dictionary is:\n",
      "Aymen\n"
     ]
    }
   ],
   "source": [
    "print(f\"Name in my dictionary is:\\n{dictionary['name']}\")\n"
   ]
  },
  {
   "cell_type": "markdown",
   "id": "b6b0c37d",
   "metadata": {},
   "source": [
    "    Use the get() method to access a value, providing a default value if the key is not present.\n"
   ]
  },
  {
   "cell_type": "code",
   "execution_count": 5,
   "id": "7aa9e88c",
   "metadata": {},
   "outputs": [
    {
     "name": "stdout",
     "output_type": "stream",
     "text": [
      "Favorite color in my dictionary is:\n",
      "key is missing\n"
     ]
    }
   ],
   "source": [
    "print(f\"Favorite color in my dictionary is:\\n{dictionary.get('Fav_color', 'key is missing')}\")\n"
   ]
  },
  {
   "cell_type": "markdown",
   "id": "fd070da0",
   "metadata": {},
   "source": [
    "    Iterate through the keys of a dictionary and print each key."
   ]
  },
  {
   "cell_type": "code",
   "execution_count": 6,
   "id": "20a421cc",
   "metadata": {},
   "outputs": [
    {
     "name": "stdout",
     "output_type": "stream",
     "text": [
      "name\n",
      "age\n",
      "city\n"
     ]
    }
   ],
   "source": [
    "for key in dictionary:\n",
    "    print(f'{key}')"
   ]
  },
  {
   "cell_type": "markdown",
   "id": "b743bd62",
   "metadata": {},
   "source": [
    "Add a new key-value pair to a dictionary."
   ]
  },
  {
   "cell_type": "code",
   "execution_count": 7,
   "id": "db404144",
   "metadata": {},
   "outputs": [
    {
     "name": "stdout",
     "output_type": "stream",
     "text": [
      "My Dictionary after adding favorite color:\n",
      "{'name': 'Aymen', 'age': 20, 'city': 'Lahore', 'Fav_color': 'Purple'}\n"
     ]
    }
   ],
   "source": [
    "dictionary['Fav_color'] = 'Purple'\n",
    "print(f'My Dictionary after adding favorite color:\\n{dictionary}')"
   ]
  },
  {
   "cell_type": "markdown",
   "id": "ef13537b",
   "metadata": {},
   "source": [
    "Modify the value associated with an existing key."
   ]
  },
  {
   "cell_type": "code",
   "execution_count": 8,
   "id": "5e655290",
   "metadata": {},
   "outputs": [
    {
     "name": "stdout",
     "output_type": "stream",
     "text": [
      "After modifying one of the key in dictionary:\n",
      "{'name': 'Aymen', 'age': 20, 'city': 'Lahore', 'Fav_color': 'Red'}\n"
     ]
    }
   ],
   "source": [
    "dictionary['Fav_color'] = 'Red'\n",
    "print(f'After modifying one of the key in dictionary:\\n{dictionary}')"
   ]
  },
  {
   "cell_type": "markdown",
   "id": "2ff9fb92",
   "metadata": {},
   "source": [
    "Remove a specific key-value pair from a dictionary using the pop() method.\n",
    "\n"
   ]
  },
  {
   "cell_type": "code",
   "execution_count": 9,
   "id": "1bdb4169",
   "metadata": {},
   "outputs": [
    {
     "name": "stdout",
     "output_type": "stream",
     "text": [
      "My Dictionary after removing one of the key:\n",
      "{'name': 'Aymen', 'age': 20, 'Fav_color': 'Red'}\n"
     ]
    }
   ],
   "source": [
    "dictionary.pop('city')\n",
    "print(f'My Dictionary after removing one of the key:\\n{dictionary}')"
   ]
  },
  {
   "cell_type": "markdown",
   "id": "edc2abf7",
   "metadata": {},
   "source": [
    "    Remove a specific key-value pair from a dictionary using the del statement."
   ]
  },
  {
   "cell_type": "code",
   "execution_count": 10,
   "id": "538eca73",
   "metadata": {},
   "outputs": [
    {
     "name": "stdout",
     "output_type": "stream",
     "text": [
      "My Dictionary after deleting age:\n",
      "{'name': 'Aymen', 'Fav_color': 'Red'}\n"
     ]
    }
   ],
   "source": [
    "del dictionary['age']\n",
    "print(f'My Dictionary after deleting age:\\n{dictionary}')"
   ]
  },
  {
   "cell_type": "markdown",
   "id": "0f2d7e6a",
   "metadata": {},
   "source": [
    "Convert a dictionary to a list of keys."
   ]
  },
  {
   "cell_type": "code",
   "execution_count": 11,
   "id": "5705250c",
   "metadata": {},
   "outputs": [
    {
     "name": "stdout",
     "output_type": "stream",
     "text": [
      "List of keys in dictionary:\n",
      "['name', 'Fav_color']\n"
     ]
    }
   ],
   "source": [
    "list_of_keys = list(dictionary.keys())\n",
    "print(f'List of keys in dictionary:\\n{list_of_keys}')"
   ]
  },
  {
   "cell_type": "markdown",
   "id": "1191e090",
   "metadata": {},
   "source": [
    "    Convert a dictionary to a list of values.\n"
   ]
  },
  {
   "cell_type": "code",
   "execution_count": 12,
   "id": "e89b908a",
   "metadata": {},
   "outputs": [
    {
     "name": "stdout",
     "output_type": "stream",
     "text": [
      "List of values in dictionary:\n",
      "['Aymen', 'Red']\n"
     ]
    }
   ],
   "source": [
    "list_of_values = list(dictionary.values())\n",
    "print(f'List of values in dictionary:\\n{list_of_values}')"
   ]
  },
  {
   "cell_type": "markdown",
   "id": "f72c7f5e",
   "metadata": {},
   "source": [
    "    Convert a list of tuples to a dictionary."
   ]
  },
  {
   "cell_type": "code",
   "execution_count": 13,
   "id": "2f531bc4",
   "metadata": {},
   "outputs": [
    {
     "name": "stdout",
     "output_type": "stream",
     "text": [
      "List of tuples in dictionary:\n",
      "[('name', 'Mini'), ('age', 10), ('class', 'three')]\n",
      "\n",
      "My dictionary:\n",
      "{'name': 'Mini', 'age': 10, 'class': 'three'}\n"
     ]
    }
   ],
   "source": [
    "list_of_tuples = [('name','Mini'),('age',10),('class','three')]\n",
    "print(f'List of tuples in dictionary:\\n{list_of_tuples}')\n",
    "\n",
    "tuples_to_dict = dict(list_of_tuples)\n",
    "print(f'\\nMy dictionary:\\n{tuples_to_dict}')"
   ]
  },
  {
   "cell_type": "markdown",
   "id": "8ce9bedf",
   "metadata": {},
   "source": [
    "Use the keys() method to get a list of keys in a dictionary.\n"
   ]
  },
  {
   "cell_type": "code",
   "execution_count": 14,
   "id": "7d975a45",
   "metadata": {},
   "outputs": [
    {
     "name": "stdout",
     "output_type": "stream",
     "text": [
      "Keys in dictionary:\n",
      "dict_keys(['name', 'Fav_color'])\n"
     ]
    }
   ],
   "source": [
    "keys_list = dictionary.keys()\n",
    "print(f'Keys in dictionary:\\n{keys_list}')"
   ]
  },
  {
   "cell_type": "markdown",
   "id": "8adb7c9d",
   "metadata": {},
   "source": [
    "\n",
    "    Use the values() method to get a list of values in a dictionary.\n"
   ]
  },
  {
   "cell_type": "code",
   "execution_count": 15,
   "id": "fb8a455c",
   "metadata": {},
   "outputs": [
    {
     "name": "stdout",
     "output_type": "stream",
     "text": [
      "Values in dictionary:\n",
      "dict_values(['Aymen', 'Red'])\n"
     ]
    }
   ],
   "source": [
    "values_list = dictionary.values()\n",
    "print(f'Values in dictionary:\\n{values_list}')"
   ]
  },
  {
   "cell_type": "markdown",
   "id": "b4b044e4",
   "metadata": {},
   "source": [
    "    Use the items() method to get a list of key-value pairs in a dictionary."
   ]
  },
  {
   "cell_type": "code",
   "execution_count": 17,
   "id": "ca390b74",
   "metadata": {},
   "outputs": [
    {
     "name": "stdout",
     "output_type": "stream",
     "text": [
      "Key-Value pairs in dictionary:\n",
      "[('name', 'Aymen'), ('Fav_color', 'Red')]\n"
     ]
    }
   ],
   "source": [
    "items_list = list(dictionary.items())\n",
    "\n",
    "print(f'Key-Value pairs in dictionary:\\n{list(items_list)}')"
   ]
  },
  {
   "cell_type": "markdown",
   "id": "bd4eb41b",
   "metadata": {},
   "source": [
    "Check if a key is present in a dictionary using the in operator.\n",
    "\n"
   ]
  },
  {
   "cell_type": "code",
   "execution_count": 42,
   "id": "39c2a92f",
   "metadata": {},
   "outputs": [
    {
     "name": "stdout",
     "output_type": "stream",
     "text": [
      "Fav_color is present in dictionary\n"
     ]
    }
   ],
   "source": [
    "key = 'Fav_color'\n",
    "if key in dictionary.keys():\n",
    "    print(f'{key} is present in dictionary')\n",
    "else :\n",
    "    print(f'{key} is not present in dictionary')"
   ]
  },
  {
   "cell_type": "markdown",
   "id": "ba80007f",
   "metadata": {},
   "source": [
    "    Use the setdefault() method to add a key with a default value if it doesn't exist.\n"
   ]
  },
  {
   "cell_type": "code",
   "execution_count": 54,
   "id": "cc19bd44",
   "metadata": {},
   "outputs": [
    {
     "name": "stdout",
     "output_type": "stream",
     "text": [
      "My dictionary:\n",
      "{'name': 'Aymen', 'age': 20, 'city': 'Lahore'}\n",
      "\n",
      "Updated dictionary:\n",
      " {'name': 'Aymen', 'age': 20, 'city': 'Lahore', 'subject': 'DS'}\n",
      "\n",
      "Value associated with key 'subject': DS\n",
      "\n",
      "Existing value associated with key 'name': Aymen\n"
     ]
    }
   ],
   "source": [
    "print(f'My dictionary:\\n{dictionary}\\n')\n",
    "default_value = dictionary.setdefault('subject', 'DS')\n",
    "print(\"Updated dictionary:\\n\", dictionary)\n",
    "print(\"\\nValue associated with key 'subject':\", default_value)\n",
    "\n",
    "existing_value = dictionary.setdefault('name', 'bakhtawar')\n",
    "print(\"\\nExisting value associated with key 'name':\", existing_value)\n"
   ]
  },
  {
   "cell_type": "markdown",
   "id": "5dd9b173",
   "metadata": {},
   "source": [
    "    Merge two dictionaries using the update() method.\n"
   ]
  },
  {
   "cell_type": "code",
   "execution_count": 44,
   "id": "05e95981",
   "metadata": {},
   "outputs": [
    {
     "name": "stdout",
     "output_type": "stream",
     "text": [
      "Dictionary 1 :\n",
      "{'Punjab': 'Lahore', 'Sindh': 'Karachi'}\n",
      "\n",
      "Dictionary 2 :\n",
      "{'Balochistan': 'Quetta', 'KPK': 'Peshawar'}\n",
      "\n",
      "Dictionary 1 after merging:\n",
      "{'Punjab': 'Lahore', 'Sindh': 'Karachi', 'Balochistan': 'Quetta', 'KPK': 'Peshawar'}\n"
     ]
    }
   ],
   "source": [
    "dict1 = {'Punjab':'Lahore', 'Sindh':'Karachi'}\n",
    "print(f'Dictionary 1 :\\n{dict1}')\n",
    "dict2 = {'Balochistan':'Quetta', 'KPK':'Peshawar'}\n",
    "print(f'\\nDictionary 2 :\\n{dict2}')\n",
    "dict1.update(dict2)\n",
    "print(f'\\nDictionary 1 after merging:\\n{dict1}')"
   ]
  },
  {
   "cell_type": "markdown",
   "id": "1415c188",
   "metadata": {},
   "source": [
    "    Use the clear() method to remove all elements from a dictionary."
   ]
  },
  {
   "cell_type": "code",
   "execution_count": 45,
   "id": "bdf48d4c",
   "metadata": {},
   "outputs": [
    {
     "name": "stdout",
     "output_type": "stream",
     "text": [
      "Dictionary after clear :\n",
      "{}\n"
     ]
    }
   ],
   "source": [
    "dictionary.clear()\n",
    "print(f'Dictionary after clear :\\n{dictionary}')"
   ]
  }
 ],
 "metadata": {
  "kernelspec": {
   "display_name": "Python 3 (ipykernel)",
   "language": "python",
   "name": "python3"
  },
  "language_info": {
   "codemirror_mode": {
    "name": "ipython",
    "version": 3
   },
   "file_extension": ".py",
   "mimetype": "text/x-python",
   "name": "python",
   "nbconvert_exporter": "python",
   "pygments_lexer": "ipython3",
   "version": "3.11.5"
  }
 },
 "nbformat": 4,
 "nbformat_minor": 5
}
