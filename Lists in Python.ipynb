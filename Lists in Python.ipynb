{
 "cells": [
  {
   "cell_type": "markdown",
   "id": "48147901",
   "metadata": {},
   "source": [
    "### Assignment-01 (List)\n",
    "- Change the notebook name with your name and Roll Number.\n",
    "- Try this as your own, no chatgpt (it's for your learning)\n",
    "- after completing the assignment, submit this book on google class room."
   ]
  },
  {
   "cell_type": "code",
   "execution_count": 1,
   "id": "26b4d246",
   "metadata": {},
   "outputs": [
    {
     "name": "stdout",
     "output_type": "stream",
     "text": [
      "My List:\n",
      " [1, 2, 3, 4, 5, 6]\n"
     ]
    }
   ],
   "source": [
    "my_list = [1,2,3,4,5,6]\n",
    "print(f'My List:\\n {my_list}')"
   ]
  },
  {
   "cell_type": "markdown",
   "id": "4a0551ca",
   "metadata": {},
   "source": [
    "Create an empty list and print it.\n"
   ]
  },
  {
   "cell_type": "code",
   "execution_count": 2,
   "id": "d2923b71",
   "metadata": {},
   "outputs": [
    {
     "name": "stdout",
     "output_type": "stream",
     "text": [
      "Empty List:\n",
      " []\n"
     ]
    }
   ],
   "source": [
    "empty_list = []\n",
    "print(f'Empty List:\\n {empty_list}')"
   ]
  },
  {
   "cell_type": "markdown",
   "id": "fa6b638e",
   "metadata": {},
   "source": [
    "Create a list of your favorite colors and print it.\n"
   ]
  },
  {
   "cell_type": "code",
   "execution_count": 3,
   "id": "c549875c",
   "metadata": {},
   "outputs": [
    {
     "name": "stdout",
     "output_type": "stream",
     "text": [
      "My favorite colors:\n",
      " ['Red', 'Blue', 'Black']\n"
     ]
    }
   ],
   "source": [
    "fav_colors = ['Red','Blue','Black']\n",
    "print(f'My favorite colors:\\n {fav_colors}')"
   ]
  },
  {
   "cell_type": "markdown",
   "id": "4a1371d4",
   "metadata": {},
   "source": [
    "Create a list that includes a mix of data types (integers, strings, floats).\n"
   ]
  },
  {
   "cell_type": "code",
   "execution_count": 4,
   "id": "dfc878e2",
   "metadata": {},
   "outputs": [
    {
     "name": "stdout",
     "output_type": "stream",
     "text": [
      "List of different data types:\n",
      " [15, 'Aymen', 92.5]\n"
     ]
    }
   ],
   "source": [
    "mix_list = [15,'Aymen',92.5]\n",
    "print(f'List of different data types:\\n {mix_list}')"
   ]
  },
  {
   "cell_type": "markdown",
   "id": "2916cde7",
   "metadata": {},
   "source": [
    "Access the first element of a list.\n"
   ]
  },
  {
   "cell_type": "code",
   "execution_count": 5,
   "id": "a0a7b3d2",
   "metadata": {},
   "outputs": [
    {
     "name": "stdout",
     "output_type": "stream",
     "text": [
      "First element of my list is:\n",
      " 1\n"
     ]
    }
   ],
   "source": [
    "first_element = my_list[0]\n",
    "print(f'First element of my list is:\\n {first_element}')"
   ]
  },
  {
   "cell_type": "markdown",
   "id": "13b39ea7",
   "metadata": {},
   "source": [
    "Access the last element of a list."
   ]
  },
  {
   "cell_type": "code",
   "execution_count": 6,
   "id": "4f8cf5da",
   "metadata": {},
   "outputs": [
    {
     "name": "stdout",
     "output_type": "stream",
     "text": [
      "Last element of my list is:\n",
      " 6\n"
     ]
    }
   ],
   "source": [
    "last_element = my_list[-1]\n",
    "print(f'Last element of my list is:\\n {last_element}')"
   ]
  },
  {
   "cell_type": "markdown",
   "id": "ef7e0f8d",
   "metadata": {},
   "source": [
    " Access the second and third elements of a list.\n"
   ]
  },
  {
   "cell_type": "code",
   "execution_count": 7,
   "id": "e215ceed",
   "metadata": {},
   "outputs": [
    {
     "name": "stdout",
     "output_type": "stream",
     "text": [
      "Second and Third element of my list is:\n",
      " [2, 3]\n"
     ]
    }
   ],
   "source": [
    "other_elements = my_list[1:3]\n",
    "print(f'Second and Third element of my list is:\\n {other_elements}')"
   ]
  },
  {
   "cell_type": "markdown",
   "id": "16ef79f1",
   "metadata": {},
   "source": [
    "\n",
    "Slice a list to extract the first three elements.\n"
   ]
  },
  {
   "cell_type": "code",
   "execution_count": 8,
   "id": "86d94d3c",
   "metadata": {},
   "outputs": [
    {
     "name": "stdout",
     "output_type": "stream",
     "text": [
      "First three elements of a list is:\n",
      " [1, 2, 3]\n"
     ]
    }
   ],
   "source": [
    "first3_elements = my_list[:3]\n",
    "print(f'First three elements of a list is:\\n {first3_elements}')"
   ]
  },
  {
   "cell_type": "markdown",
   "id": "717afad5",
   "metadata": {},
   "source": [
    "Slice a list to extract the last three elements.\n"
   ]
  },
  {
   "cell_type": "code",
   "execution_count": 9,
   "id": "2f79b771",
   "metadata": {},
   "outputs": [
    {
     "name": "stdout",
     "output_type": "stream",
     "text": [
      "Last three elements of a list is:\n",
      " [4, 5, 6]\n"
     ]
    }
   ],
   "source": [
    "last3_elements = my_list[-3:]\n",
    "print(f'Last three elements of a list is:\\n {last3_elements}')"
   ]
  },
  {
   "cell_type": "markdown",
   "id": "da7f582e",
   "metadata": {},
   "source": [
    "Slice a list to get every second element.\n"
   ]
  },
  {
   "cell_type": "code",
   "execution_count": 10,
   "id": "4edeea3d",
   "metadata": {},
   "outputs": [
    {
     "name": "stdout",
     "output_type": "stream",
     "text": [
      "My list after step of two:\n",
      " [1, 3, 5]\n"
     ]
    }
   ],
   "source": [
    "step_of_two = my_list[::2]\n",
    "print(f'My list after step of two:\\n {step_of_two}')"
   ]
  },
  {
   "cell_type": "markdown",
   "id": "011bb9f7",
   "metadata": {},
   "source": [
    "Reverse a list using slicing."
   ]
  },
  {
   "cell_type": "code",
   "execution_count": 11,
   "id": "c11e7110",
   "metadata": {},
   "outputs": [
    {
     "name": "stdout",
     "output_type": "stream",
     "text": [
      "Reversed list:\n",
      " [6, 5, 4, 3, 2, 1]\n"
     ]
    }
   ],
   "source": [
    "reverse_list = my_list[::-1]\n",
    "print(f'Reversed list:\\n {reverse_list}')"
   ]
  },
  {
   "cell_type": "markdown",
   "id": "5f45b7a8",
   "metadata": {},
   "source": [
    " Create two lists and concatenate them.\n"
   ]
  },
  {
   "cell_type": "code",
   "execution_count": 12,
   "id": "2c210b01",
   "metadata": {},
   "outputs": [
    {
     "name": "stdout",
     "output_type": "stream",
     "text": [
      "Concatenated List is:\n",
      " [90, 60, 85, 'Aymen', 'Menahil', 'Bakhtawar']\n"
     ]
    }
   ],
   "source": [
    "marks = [90,60,85]\n",
    "names = ['Aymen','Menahil','Bakhtawar']\n",
    "concatenated_list = marks + names\n",
    "print(f'Concatenated List is:\\n {concatenated_list}')"
   ]
  },
  {
   "cell_type": "markdown",
   "id": "a6c019d7",
   "metadata": {},
   "source": [
    "\n",
    "Repeat a list multiple times using the repetition operator"
   ]
  },
  {
   "cell_type": "code",
   "execution_count": 16,
   "id": "b40d10b9",
   "metadata": {},
   "outputs": [
    {
     "name": "stdout",
     "output_type": "stream",
     "text": [
      "Marks List after repeating 3 times\n",
      " [90, 60, 85, 90, 60, 85, 90, 60, 85]\n"
     ]
    }
   ],
   "source": [
    "repition_list = marks * 3\n",
    "print(f'Marks List after repeating 3 times\\n {repition_list}')"
   ]
  },
  {
   "cell_type": "markdown",
   "id": "0fdf9b21",
   "metadata": {},
   "source": [
    "Add a new element to the end of a list using the append() method.\n"
   ]
  },
  {
   "cell_type": "code",
   "execution_count": 17,
   "id": "86906fc9",
   "metadata": {},
   "outputs": [
    {
     "name": "stdout",
     "output_type": "stream",
     "text": [
      "After appending 7 to my List:\n",
      " [1, 2, 3, 4, 5, 6, 7]\n"
     ]
    }
   ],
   "source": [
    "my_list.append(7)\n",
    "print(f'After appending 7 to my List:\\n {my_list}')"
   ]
  },
  {
   "cell_type": "markdown",
   "id": "1812e852",
   "metadata": {},
   "source": [
    "\n",
    "Extend a list with elements from another list using the extend() method.\n"
   ]
  },
  {
   "cell_type": "code",
   "execution_count": 18,
   "id": "375a8ac2",
   "metadata": {},
   "outputs": [
    {
     "name": "stdout",
     "output_type": "stream",
     "text": [
      "Extending colors list by names:\n",
      " ['Red', 'Blue', 'Black', 'Aymen', 'Menahil', 'Bakhtawar']\n"
     ]
    }
   ],
   "source": [
    "fav_colors.extend(names)\n",
    "print(f'Extending colors list by names:\\n {fav_colors}')"
   ]
  },
  {
   "cell_type": "markdown",
   "id": "b4285741",
   "metadata": {},
   "source": [
    "Insert an element at a specific index in a list using the insert() method."
   ]
  },
  {
   "cell_type": "code",
   "execution_count": 19,
   "id": "5e5b2a93",
   "metadata": {},
   "outputs": [
    {
     "name": "stdout",
     "output_type": "stream",
     "text": [
      "After inserting 10 at a 4th index in my list:\n",
      " [1, 2, 3, 4, 10, 5, 6, 7]\n"
     ]
    }
   ],
   "source": [
    "my_list.insert(4,10)\n",
    "print(f'After inserting 10 at a 4th index in my list:\\n {my_list}')"
   ]
  },
  {
   "cell_type": "markdown",
   "id": "5926ef7b",
   "metadata": {},
   "source": [
    " Remove the last element from a list using the pop() method.\n",
    "\n"
   ]
  },
  {
   "cell_type": "code",
   "execution_count": 20,
   "id": "4e3c8c6d",
   "metadata": {},
   "outputs": [
    {
     "name": "stdout",
     "output_type": "stream",
     "text": [
      "The popped element is: 7\n",
      "After removing the last element from my list:\n",
      " [1, 2, 3, 4, 10, 5, 6]\n"
     ]
    }
   ],
   "source": [
    "popped_element = my_list.pop()\n",
    "print(f'The popped element is: {popped_element}')\n",
    "print(f'After removing the last element from my list:\\n {my_list}')"
   ]
  },
  {
   "cell_type": "markdown",
   "id": "34faaad1",
   "metadata": {},
   "source": [
    "Remove a specific element from a list using the remove() method.\n"
   ]
  },
  {
   "cell_type": "code",
   "execution_count": 21,
   "id": "2706c63d",
   "metadata": {},
   "outputs": [
    {
     "name": "stdout",
     "output_type": "stream",
     "text": [
      "After removing 2 from my list:\n",
      " [1, 3, 4, 10, 5, 6]\n"
     ]
    }
   ],
   "source": [
    "my_list.remove(2)\n",
    "print(f'After removing 2 from my list:\\n {my_list}')"
   ]
  },
  {
   "cell_type": "markdown",
   "id": "b066a57c",
   "metadata": {},
   "source": [
    "Clear all elements from a list.\n"
   ]
  },
  {
   "cell_type": "code",
   "execution_count": 22,
   "id": "a4cb30f8",
   "metadata": {},
   "outputs": [
    {
     "name": "stdout",
     "output_type": "stream",
     "text": [
      "After clearing all elements from my list:\n",
      " []\n"
     ]
    }
   ],
   "source": [
    "my_list.clear()\n",
    "print(f'After clearing all elements from my list:\\n {my_list}')"
   ]
  },
  {
   "cell_type": "markdown",
   "id": "f9d4754d",
   "metadata": {},
   "source": [
    "Delete an element at a specific index using the del statement."
   ]
  },
  {
   "cell_type": "code",
   "execution_count": 23,
   "id": "adbc06c2",
   "metadata": {},
   "outputs": [
    {
     "name": "stdout",
     "output_type": "stream",
     "text": [
      "After removing last element from colors list:\n",
      " ['Red', 'Blue', 'Black', 'Aymen', 'Menahil']\n"
     ]
    }
   ],
   "source": [
    "del fav_colors[-1]\n",
    "print(f'After removing last element from colors list:\\n {fav_colors}')"
   ]
  },
  {
   "cell_type": "markdown",
   "id": "f8468e13",
   "metadata": {},
   "source": [
    "Convert a string to a list of characters and vice-versa."
   ]
  },
  {
   "cell_type": "code",
   "execution_count": 25,
   "id": "7c9fe1dc",
   "metadata": {},
   "outputs": [
    {
     "name": "stdout",
     "output_type": "stream",
     "text": [
      "Converting string to list:\n",
      " ['A', 'y', 'm', 'e', 'n']\n",
      "Converting list to string:\n",
      " Aymen\n"
     ]
    }
   ],
   "source": [
    "name = 'Aymen'\n",
    "name_list = list(name)\n",
    "print(f'Converting string to list:\\n {name_list}')\n",
    "name_str = ''.join(name_list)\n",
    "print(f'Converting list to string:\\n {name_str}')"
   ]
  },
  {
   "cell_type": "markdown",
   "id": "5fef4bef",
   "metadata": {},
   "source": [
    "Sort a list in ascending order using the sort() method.\n",
    "\n"
   ]
  },
  {
   "cell_type": "code",
   "execution_count": 26,
   "id": "749b040c",
   "metadata": {},
   "outputs": [
    {
     "name": "stdout",
     "output_type": "stream",
     "text": [
      "New list:\n",
      " [100, 23, 45, 78, 54, 87]\n",
      "New list after sorting in ascending order:\n",
      " [23, 45, 54, 78, 87, 100]\n"
     ]
    }
   ],
   "source": [
    "new_list = [100,23,45,78,54,87]\n",
    "print(f'New list:\\n {new_list}')\n",
    "new_list.sort()\n",
    "print(f'New list after sorting in ascending order:\\n {new_list}')"
   ]
  },
  {
   "cell_type": "markdown",
   "id": "82cc2ba7",
   "metadata": {},
   "source": [
    "\n",
    "Sort a list in descending order using the sort() method.\n"
   ]
  },
  {
   "cell_type": "code",
   "execution_count": 27,
   "id": "9d3b86b3",
   "metadata": {},
   "outputs": [
    {
     "name": "stdout",
     "output_type": "stream",
     "text": [
      "New list:\n",
      " [23, 45, 54, 78, 87, 100]\n",
      "New list after sorting in descending order:\n",
      " [100, 87, 78, 54, 45, 23]\n"
     ]
    }
   ],
   "source": [
    "print(f'New list:\\n {new_list}')\n",
    "new_list.sort(reverse=True)\n",
    "print(f'New list after sorting in descending order:\\n {new_list}')"
   ]
  },
  {
   "cell_type": "markdown",
   "id": "04c5419a",
   "metadata": {},
   "source": [
    "Reverse the order of a list using the reverse() method.\n"
   ]
  },
  {
   "cell_type": "code",
   "execution_count": 28,
   "id": "f0eac28f",
   "metadata": {},
   "outputs": [
    {
     "name": "stdout",
     "output_type": "stream",
     "text": [
      "New list:\n",
      " [100, 23, 45, 78, 54, 87]\n",
      "New list after sorting:\n",
      " [87, 54, 78, 45, 23, 100]\n"
     ]
    }
   ],
   "source": [
    "new_list = [100,23,45,78,54,87]\n",
    "print(f'New list:\\n {new_list}')\n",
    "new_list.reverse()\n",
    "print(f'New list after sorting:\\n {new_list}')"
   ]
  },
  {
   "cell_type": "markdown",
   "id": "ea816319",
   "metadata": {},
   "source": [
    "Check if an element is present in a list using the in operator.\n"
   ]
  },
  {
   "cell_type": "code",
   "execution_count": 29,
   "id": "db2e8041",
   "metadata": {},
   "outputs": [
    {
     "name": "stdout",
     "output_type": "stream",
     "text": [
      "43 is not present in the list [87, 54, 78, 45, 23, 100]\n"
     ]
    }
   ],
   "source": [
    "element = 43\n",
    "if element in new_list:\n",
    "    print(f'{element} is present in the list {new_list}')\n",
    "else:\n",
    "    print(f'{element} is not present in the list {new_list}')"
   ]
  },
  {
   "cell_type": "markdown",
   "id": "f17e9e0a",
   "metadata": {},
   "source": [
    "Compare two lists to see if they are equal in both value and identity.\n"
   ]
  },
  {
   "cell_type": "code",
   "execution_count": 30,
   "id": "cc5763b1",
   "metadata": {},
   "outputs": [
    {
     "name": "stdout",
     "output_type": "stream",
     "text": [
      "List 1 :\n",
      " [100, 12, 33] Id of list1 : 2411120884864\n",
      "List 2 :\n",
      " [100, 12, 33] Id of list2 : 2411120989248\n",
      "\n",
      "Are both lists equal in values? True\n",
      "Are both lists equal in identiry? False\n"
     ]
    }
   ],
   "source": [
    "list1 = [100,12,33]\n",
    "list2 = [100,12,33]\n",
    "print(f'List 1 :\\n {list1} Id of list1 : {id(list1)}')\n",
    "print(f'List 2 :\\n {list2} Id of list2 : {id(list2)}')\n",
    "print(f'\\nAre both lists equal in values? {list1==list2}')\n",
    "print(f'Are both lists equal in identiry? {id(list1)==id(list2)}')\n"
   ]
  },
  {
   "cell_type": "markdown",
   "id": "19d815f3",
   "metadata": {},
   "source": [
    "Create a shallow copy of a list and modify one of the lists to observe the effects on the other.\n"
   ]
  },
  {
   "cell_type": "code",
   "execution_count": 37,
   "id": "92979606",
   "metadata": {},
   "outputs": [
    {
     "name": "stdout",
     "output_type": "stream",
     "text": [
      "Nested list is:\n",
      " ['Aymen', 'Rabia', [200, 102], ['Red', 'Green', [98, 65]]]\n",
      "\n",
      "Shallow copy of nested list after modifying:\n",
      " ['Aymen', 'hina', [200, 102], ['Red', 'Green', [100, 82]]]\n",
      "\n",
      "Original Nested list after modifying:\n",
      " ['Aymen', 'Rabia', [200, 102], ['Red', 'Green', [100, 82]]]\n"
     ]
    }
   ],
   "source": [
    "import copy\n",
    "nested_list = ['Aymen','Rabia',[200,102],['Red','Green',[98,65]]]\n",
    "shallow_copy = copy.copy(nested_list)\n",
    "print(f'Nested list is:\\n {nested_list}\\n')\n",
    "shallow_copy[1]='hina'\n",
    "shallow_copy[3][2] = [100,82]\n",
    "\n",
    "print(f'Shallow copy of nested list after modifying:\\n {shallow_copy}\\n')\n",
    "print(f'Original Nested list after modifying:\\n {nested_list}')\n"
   ]
  },
  {
   "cell_type": "markdown",
   "id": "6c8f1702",
   "metadata": {},
   "source": [
    "Create a deep copy of a nested list and modify one of the lists to observe the effects on the other."
   ]
  },
  {
   "cell_type": "code",
   "execution_count": 39,
   "id": "87a8af6d",
   "metadata": {},
   "outputs": [
    {
     "name": "stdout",
     "output_type": "stream",
     "text": [
      "Nested list is:\n",
      " ['Aymen', 56, ['Red', 'Green', [98, 65]]]\n",
      "\n",
      "Deep copy of nested list after modifying:\n",
      " ['Aymen', 'hina', ['Red', 'Green', [100, 82]]]\n",
      "\n",
      "Original Nested list after modifying:\n",
      " ['Aymen', 56, ['Red', 'Green', [98, 65]]]\n"
     ]
    }
   ],
   "source": [
    "import copy\n",
    "nested_list = ['Aymen',56,['Red','Green',[98,65]]]\n",
    "deep_copy = copy.deepcopy(nested_list)\n",
    "print(f'Nested list is:\\n {nested_list}\\n')\n",
    "#deep_copy[2][0] = 'Purple'\n",
    "deep_copy[1]='hina'\n",
    "deep_copy[2][2] = [100,82]\n",
    "print(f'Deep copy of nested list after modifying:\\n {deep_copy}\\n')\n",
    "print(f'Original Nested list after modifying:\\n {nested_list}')"
   ]
  },
  {
   "cell_type": "markdown",
   "id": "c52154a0",
   "metadata": {},
   "source": [
    "Pickle and Unpickle a list and display its content."
   ]
  },
  {
   "cell_type": "code",
   "execution_count": 73,
   "id": "2c97aff5",
   "metadata": {},
   "outputs": [],
   "source": [
    "import pickle\n",
    "\n",
    "my_list = [1, 2, 3, 4, 5]\n",
    "\n",
    "with open('my_list.pickle', 'wb') as f:\n",
    "    pickle.dump(my_list, f)\n"
   ]
  },
  {
   "cell_type": "code",
   "execution_count": 72,
   "id": "8daed3ac",
   "metadata": {},
   "outputs": [
    {
     "name": "stdout",
     "output_type": "stream",
     "text": [
      "Content of the unpickled list:\n",
      "[1, 2, 3, 4, 5]\n"
     ]
    }
   ],
   "source": [
    "\n",
    "with open('my_list.pickle', 'rb') as f:\n",
    "    loaded_list = pickle.load(f)\n",
    "\n",
    "print(\"Content of the unpickled list:\")\n",
    "print(loaded_list)  \n",
    "\n"
   ]
  }
 ],
 "metadata": {
  "kernelspec": {
   "display_name": "Python 3 (ipykernel)",
   "language": "python",
   "name": "python3"
  },
  "language_info": {
   "codemirror_mode": {
    "name": "ipython",
    "version": 3
   },
   "file_extension": ".py",
   "mimetype": "text/x-python",
   "name": "python",
   "nbconvert_exporter": "python",
   "pygments_lexer": "ipython3",
   "version": "3.11.5"
  }
 },
 "nbformat": 4,
 "nbformat_minor": 5
}
