{
 "cells": [
  {
   "cell_type": "markdown",
   "id": "a97576a6",
   "metadata": {},
   "source": [
    "### Assignment-05 (SET)\n",
    "- Change the notebook name with your name and Roll Number.\n",
    "- Try this as your own, no chatgpt (it's for your learning)\n",
    "- after completing the assignment, submit this book on google class room."
   ]
  },
  {
   "cell_type": "markdown",
   "id": "d1ddf3da",
   "metadata": {},
   "source": [
    "    Create an empty set and print it.\n",
    "  "
   ]
  },
  {
   "cell_type": "code",
   "execution_count": 1,
   "id": "c9e9db1e",
   "metadata": {},
   "outputs": [
    {
     "name": "stdout",
     "output_type": "stream",
     "text": [
      "Empty set:\n",
      "set()\n"
     ]
    }
   ],
   "source": [
    "empty_set = set()\n",
    "print(f'Empty set:\\n{empty_set}')"
   ]
  },
  {
   "cell_type": "markdown",
   "id": "eeb8fb4d",
   "metadata": {},
   "source": [
    "  Create a set of your favorite colors and print it.\n"
   ]
  },
  {
   "cell_type": "code",
   "execution_count": 2,
   "id": "d8867e41",
   "metadata": {},
   "outputs": [
    {
     "name": "stdout",
     "output_type": "stream",
     "text": [
      "Favorite colors:\n",
      "{'purple', 'red', 'pink'}\n"
     ]
    }
   ],
   "source": [
    "fav_colors = {'red','pink','purple'}\n",
    "fav_colors = set(fav_colors)\n",
    "print(f'Favorite colors:\\n{fav_colors}')"
   ]
  },
  {
   "cell_type": "markdown",
   "id": "5e724df6",
   "metadata": {},
   "source": [
    "    Create a set that includes a mix of data types (integers, strings, floats)."
   ]
  },
  {
   "cell_type": "code",
   "execution_count": 3,
   "id": "dcbdbf13",
   "metadata": {},
   "outputs": [
    {
     "name": "stdout",
     "output_type": "stream",
     "text": [
      "Mixed Set:\n",
      "{20, 'DS', 'aymen', 92.5}\n"
     ]
    }
   ],
   "source": [
    "mixed_set = {'aymen',20,92.5,'DS'}\n",
    "print(f'Mixed Set:\\n{mixed_set}')       "
   ]
  },
  {
   "cell_type": "markdown",
   "id": "d2b80125",
   "metadata": {},
   "source": [
    "Access the elements of a set using a loop and print each element."
   ]
  },
  {
   "cell_type": "code",
   "execution_count": 4,
   "id": "3ceec096",
   "metadata": {},
   "outputs": [
    {
     "name": "stdout",
     "output_type": "stream",
     "text": [
      "My Favorite color is:purple\n",
      "My Favorite color is:red\n",
      "My Favorite color is:pink\n"
     ]
    }
   ],
   "source": [
    "for element in fav_colors:\n",
    "    print(f'My Favorite color is:{element}')"
   ]
  },
  {
   "cell_type": "markdown",
   "id": "08fdccf7",
   "metadata": {},
   "source": [
    "add a new element to a set using the add() method."
   ]
  },
  {
   "cell_type": "code",
   "execution_count": 5,
   "id": "5d5273f9",
   "metadata": {},
   "outputs": [
    {
     "name": "stdout",
     "output_type": "stream",
     "text": [
      "Favorite colors:\n",
      "{'purple', 'green', 'red', 'pink'}\n"
     ]
    }
   ],
   "source": [
    "fav_colors.add('green')\n",
    "print(f'Favorite colors:\\n{fav_colors}')"
   ]
  },
  {
   "cell_type": "markdown",
   "id": "c8257b4c",
   "metadata": {},
   "source": [
    "Add multiple elements to a set using the update() method."
   ]
  },
  {
   "cell_type": "code",
   "execution_count": 6,
   "id": "d3fe8634",
   "metadata": {},
   "outputs": [
    {
     "name": "stdout",
     "output_type": "stream",
     "text": [
      "Favorite colors:\n",
      "{'red', 'purple', 'teal', 'pink', 'green', 'black', 'blue'}\n"
     ]
    }
   ],
   "source": [
    "fav_colors.update(['blue','black','teal'])\n",
    "print(f'Favorite colors:\\n{fav_colors}')"
   ]
  },
  {
   "cell_type": "markdown",
   "id": "e8adbe50",
   "metadata": {},
   "source": [
    "Remove and return an arbitrary element from a set using the pop() method."
   ]
  },
  {
   "cell_type": "code",
   "execution_count": 7,
   "id": "bfdcad15",
   "metadata": {},
   "outputs": [
    {
     "name": "stdout",
     "output_type": "stream",
     "text": [
      "Element removed: red \n",
      " Now set is:\n",
      "{'purple', 'teal', 'pink', 'green', 'black', 'blue'}\n"
     ]
    }
   ],
   "source": [
    "popped_item = fav_colors.pop()\n",
    "print(f'Element removed: {popped_item} \\n Now set is:\\n{fav_colors}')"
   ]
  },
  {
   "cell_type": "markdown",
   "id": "6bacfc71",
   "metadata": {},
   "source": [
    "Remove a specific element from a set using the remove() method."
   ]
  },
  {
   "cell_type": "code",
   "execution_count": 8,
   "id": "d7d4d697",
   "metadata": {},
   "outputs": [
    {
     "name": "stdout",
     "output_type": "stream",
     "text": [
      "After removing pink, set of favorite colors:\n",
      "{'purple', 'teal', 'green', 'black', 'blue'}\n"
     ]
    }
   ],
   "source": [
    "fav_colors.remove('pink')\n",
    "print(f'After removing pink, set of favorite colors:\\n{fav_colors}')"
   ]
  },
  {
   "cell_type": "markdown",
   "id": "1844da3c",
   "metadata": {},
   "source": [
    "Remove a specific element from a set using the discard() method."
   ]
  },
  {
   "cell_type": "code",
   "execution_count": 9,
   "id": "36164bf7",
   "metadata": {},
   "outputs": [
    {
     "name": "stdout",
     "output_type": "stream",
     "text": [
      "After removing, set of favorite colors:\n",
      "{'purple', 'teal', 'green', 'black', 'blue'}\n"
     ]
    }
   ],
   "source": [
    "fav_colors.discard('orange') # discarding an element not present in set\n",
    "print(f'After removing, set of favorite colors:\\n{fav_colors}')"
   ]
  },
  {
   "cell_type": "markdown",
   "id": "8bd3aadb",
   "metadata": {},
   "source": [
    "Convert a string to a set of unique characters."
   ]
  },
  {
   "cell_type": "code",
   "execution_count": 10,
   "id": "5d135ac7",
   "metadata": {},
   "outputs": [
    {
     "name": "stdout",
     "output_type": "stream",
     "text": [
      "String :\n",
      "Aymen is a good girl\n",
      "\n",
      "String converted to a set: \n",
      "{'l', 's', 'o', 'y', 'r', 'e', 'n', 'g', 'i', 'a', ' ', 'A', 'd', 'm'}\n"
     ]
    }
   ],
   "source": [
    "string = 'Aymen is a good girl'\n",
    "print(f'String :\\n{string}\\n')\n",
    "unique_set = set(string)\n",
    "print(f'String converted to a set: \\n{unique_set}')"
   ]
  },
  {
   "cell_type": "markdown",
   "id": "6c622821",
   "metadata": {},
   "source": [
    "Convert a set of characters to a string."
   ]
  },
  {
   "cell_type": "code",
   "execution_count": 11,
   "id": "fb3156ac",
   "metadata": {},
   "outputs": [
    {
     "name": "stdout",
     "output_type": "stream",
     "text": [
      "Set is:\n",
      "{'Aymen', 'sleeping', 'is'}\n",
      "\n",
      "Set converted to string:\n",
      "Aymen sleeping is\n",
      "\n"
     ]
    }
   ],
   "source": [
    "sett = {'Aymen','is','sleeping'}\n",
    "print(f'Set is:\\n{sett}\\n')\n",
    "\n",
    "to_str = ' '.join(sett)\n",
    "print(f'Set converted to string:\\n{to_str}\\n')"
   ]
  },
  {
   "cell_type": "markdown",
   "id": "9a426c8f",
   "metadata": {},
   "source": [
    "Use the clear() method to remove all elements from a set."
   ]
  },
  {
   "cell_type": "code",
   "execution_count": 12,
   "id": "88a65643",
   "metadata": {},
   "outputs": [
    {
     "name": "stdout",
     "output_type": "stream",
     "text": [
      "Fav colors set :\n",
      "set()\n",
      "\n"
     ]
    }
   ],
   "source": [
    "fav_colors.clear()\n",
    "print(f'Fav colors set :\\n{fav_colors}\\n')"
   ]
  },
  {
   "cell_type": "markdown",
   "id": "9edea94d",
   "metadata": {},
   "source": [
    "Use the copy() method to create a shallow copy of a set."
   ]
  },
  {
   "cell_type": "code",
   "execution_count": 13,
   "id": "eb4e0b56",
   "metadata": {},
   "outputs": [
    {
     "name": "stdout",
     "output_type": "stream",
     "text": [
      "Original Set:\n",
      "{1, 2, 3, 4, 5}\n",
      "Shallow copy of original Set:\n",
      "{1, 2, 3, 4, 5}\n"
     ]
    }
   ],
   "source": [
    "import copy\n",
    "set1 = {1,2,3,4,5}\n",
    "set2 = copy.copy(set1)\n",
    "print(f'Original Set:\\n{set1}')\n",
    "print(f'Shallow copy of original Set:\\n{set2}')\n"
   ]
  },
  {
   "cell_type": "markdown",
   "id": "cd9c69f0",
   "metadata": {},
   "source": [
    "Use the difference() method to find the difference between two sets."
   ]
  },
  {
   "cell_type": "code",
   "execution_count": 17,
   "id": "2f816d0f",
   "metadata": {},
   "outputs": [
    {
     "name": "stdout",
     "output_type": "stream",
     "text": [
      "Difference between set1 & number set:\n",
      "{1, 2}\n"
     ]
    }
   ],
   "source": [
    "set1 = {1,2,3,4,5}\n",
    "number_set= {3,4,5,8}\n",
    "diff = set1.difference(number_set)\n",
    "print(f'Difference between set1 & number set:\\n{diff}')"
   ]
  },
  {
   "cell_type": "markdown",
   "id": "307c3f1a",
   "metadata": {},
   "source": [
    "Create two sets and find their union."
   ]
  },
  {
   "cell_type": "code",
   "execution_count": 18,
   "id": "fac5a114",
   "metadata": {},
   "outputs": [
    {
     "name": "stdout",
     "output_type": "stream",
     "text": [
      "Union of set1 and set2:\n",
      "{400, 100, 'ayemen', 300, 200}\n"
     ]
    }
   ],
   "source": [
    "set1 = {'ayemen'}\n",
    "set2 = {100,200,300,400}\n",
    "union = set1 | set2\n",
    "print(f'Union of set1 and set2:\\n{union}')\n"
   ]
  },
  {
   "cell_type": "markdown",
   "id": "eaf6ba0c",
   "metadata": {},
   "source": [
    "    Create two sets and find their intersection.\n",
    "   "
   ]
  },
  {
   "cell_type": "code",
   "execution_count": 20,
   "id": "1169662c",
   "metadata": {},
   "outputs": [
    {
     "name": "stdout",
     "output_type": "stream",
     "text": [
      "Intersection of set1 and set2:\n",
      "{100}\n"
     ]
    }
   ],
   "source": [
    "set1 = {10,100,20,212}\n",
    "set2 = {100,200,300,400}\n",
    "intersection = set1 & set2\n",
    "print(f'Intersection of set1 and set2:\\n{intersection}')\n"
   ]
  },
  {
   "cell_type": "markdown",
   "id": "859e1d7f",
   "metadata": {},
   "source": [
    " Create two sets and find their difference.\n"
   ]
  },
  {
   "cell_type": "code",
   "execution_count": 21,
   "id": "681f05e6",
   "metadata": {},
   "outputs": [
    {
     "name": "stdout",
     "output_type": "stream",
     "text": [
      "Difference of set1 from set2:\n",
      "{10, 212, 20}\n"
     ]
    }
   ],
   "source": [
    "set1 = {10,100,20,212}\n",
    "set2 = {100,200,300,400}\n",
    "diff = set1 - set2\n",
    "print(f'Difference of set1 from set2:\\n{diff}')"
   ]
  },
  {
   "cell_type": "markdown",
   "id": "b1c839f5",
   "metadata": {},
   "source": [
    "    Create two sets and find their symmetric difference."
   ]
  },
  {
   "cell_type": "code",
   "execution_count": 22,
   "id": "c2695bb7",
   "metadata": {},
   "outputs": [
    {
     "name": "stdout",
     "output_type": "stream",
     "text": [
      "Symmetric Difference of set1 and set2:\n",
      "{1, 2, 100, 4, 300}\n"
     ]
    }
   ],
   "source": [
    "set1 = {1,2,4,400,200}\n",
    "set2 = {100,200,300,400}\n",
    "sym_diff = set1 ^ set2\n",
    "print(f'Symmetric Difference of set1 and set2:\\n{sym_diff}')"
   ]
  },
  {
   "cell_type": "markdown",
   "id": "41933917",
   "metadata": {},
   "source": [
    "Check if one set is a subset of another."
   ]
  },
  {
   "cell_type": "code",
   "execution_count": 23,
   "id": "fc3d1fd0",
   "metadata": {},
   "outputs": [
    {
     "name": "stdout",
     "output_type": "stream",
     "text": [
      "Is set1 subset of set2?:\n",
      "True\n"
     ]
    }
   ],
   "source": [
    "set1 = {100,200}\n",
    "set2 = {100,200,300,400}\n",
    "subset = set1.issubset(set2)\n",
    "print(f'Is set1 subset of set2?:\\n{subset}')"
   ]
  },
  {
   "cell_type": "markdown",
   "id": "65174e5c",
   "metadata": {},
   "source": [
    "    Check if one set is a superset of another.\n"
   ]
  },
  {
   "cell_type": "code",
   "execution_count": 24,
   "id": "cc34dbf9",
   "metadata": {},
   "outputs": [
    {
     "name": "stdout",
     "output_type": "stream",
     "text": [
      "Is set1 superset of set2?:\n",
      "True\n"
     ]
    }
   ],
   "source": [
    "set1 = {100,200}\n",
    "set2 = {100,200,300,400}\n",
    "superset = set2.issuperset(set1)\n",
    "print(f'Is set1 superset of set2?:\\n{superset}')"
   ]
  },
  {
   "cell_type": "markdown",
   "id": "e8b05467",
   "metadata": {},
   "source": [
    "    Check if two sets are disjoint (have no common elements)."
   ]
  },
  {
   "cell_type": "code",
   "execution_count": 25,
   "id": "f5e84a48",
   "metadata": {},
   "outputs": [
    {
     "name": "stdout",
     "output_type": "stream",
     "text": [
      "Is there is null intersection between set1 & set2?:\n",
      "False\n"
     ]
    }
   ],
   "source": [
    "set1 = {100,200,3}\n",
    "set2 = {100,200,300,400}\n",
    "disjoint = set1.isdisjoint(set2)\n",
    "print(f'Is there is null intersection between set1 & set2?:\\n{disjoint}')"
   ]
  }
 ],
 "metadata": {
  "kernelspec": {
   "display_name": "Python 3 (ipykernel)",
   "language": "python",
   "name": "python3"
  },
  "language_info": {
   "codemirror_mode": {
    "name": "ipython",
    "version": 3
   },
   "file_extension": ".py",
   "mimetype": "text/x-python",
   "name": "python",
   "nbconvert_exporter": "python",
   "pygments_lexer": "ipython3",
   "version": "3.11.5"
  }
 },
 "nbformat": 4,
 "nbformat_minor": 5
}
